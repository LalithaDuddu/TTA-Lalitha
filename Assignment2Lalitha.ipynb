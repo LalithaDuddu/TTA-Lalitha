{
 "metadata": {
  "language_info": {
   "codemirror_mode": {
    "name": "ipython",
    "version": 3
   },
   "file_extension": ".py",
   "mimetype": "text/x-python",
   "name": "python",
   "nbconvert_exporter": "python",
   "pygments_lexer": "ipython3",
   "version": "3.9.3"
  },
  "orig_nbformat": 2,
  "kernelspec": {
   "name": "python393jvsc74a57bd0b37037583dc5711040bbac2f0c6b337132f4533bb38c533ae39dc9d4df89fab2",
   "display_name": "Python 3.9.3 64-bit"
  },
  "metadata": {
   "interpreter": {
    "hash": "b37037583dc5711040bbac2f0c6b337132f4533bb38c533ae39dc9d4df89fab2"
   }
  }
 },
 "nbformat": 4,
 "nbformat_minor": 2,
 "cells": [
  {
   "cell_type": "code",
   "execution_count": null,
   "metadata": {},
   "outputs": [],
   "source": [
    "# WEEK 2\n",
    "\"\"\"TASK 1 Create your own Data Flow Diagram (DFD), a subject of your own choice, Example: Fast food order and convert it into code.\n",
    "To retrive even and odd numbers\"\"\"\n",
    "\n",
    "number = int(input(\"Enter the number\"))\n",
    "\n",
    "if (number % 2) == 0:\n",
    "    print(\"The number you entered is\", number, \", it is an EVEN number\")\n",
    "else:\n",
    "    print(\"The number you entered is\", number, \", it is an ODD number\")    \n"
   ]
  },
  {
   "cell_type": "code",
   "execution_count": null,
   "metadata": {},
   "outputs": [],
   "source": [
    "# TASK 2\n",
    "\"\"\"As an extension to the motorbike task that costs £2000 and loses 10% of its value every year. Set up\n",
    "a function that performs the calculation by passing in parameters. Then using a loop, print the value of the bike every following year until it falls below £1000 \"\"\"\n",
    "\n",
    "def my_function(cost, percentage):\n",
    "    cost = cost * percentage\n",
    "    return cost\n",
    "  \n",
    "  "
   ]
  },
  {
   "cell_type": "code",
   "execution_count": null,
   "metadata": {},
   "outputs": [],
   "source": [
    "cost = 2000\n",
    "percentage = 0.9\n",
    "year = 2021\n",
    "while cost >= 1000:\n",
    "    cost = cost * percentage\n",
    "    year += 1\n",
    "    print(\"The value of the motorbike in the year\", year, \"is £\",cost)\n",
    "my_function(cost, percentage)\n",
    "    \n"
   ]
  },
  {
   "cell_type": "code",
   "execution_count": 100,
   "metadata": {},
   "outputs": [
    {
     "output_type": "stream",
     "name": "stdout",
     "text": [
      "4 + 2 = 6\n"
     ]
    }
   ],
   "source": [
    "#TASK 3\n",
    "\"\"\"Write a program which will ask for two numbers from a user. Then offer an option menu to the user giving them a choice of maths operators. Once the user has selected which operator they wish to use, perform the calculation by using a procedure and passing parameters.\"\"\"\n",
    "def togive(input1, input2, oper):\n",
    "    if oper == \"+\":\n",
    "       print(input1, oper, input2, \"=\", input1+input2)\n",
    "    elif oper == \"-\":\n",
    "        print (input1, oper, input2, \"=\", input1-input2)\n",
    "    elif oper == \"*\":\n",
    "        print (input1, oper, input2, \"=\", input1*input2)\n",
    "    elif oper == \"/\":\n",
    "            print (input1, oper, input2, \"=\", input1/input2)\n",
    "    elif oper == \"**\":\n",
    "            print (input1, oper, input2, \"=\", input1**input2)\n",
    "      \n",
    "input1 = int(input(\"Guess your 1st number\")) #You will need to guess the number\n",
    "oper = input(\"Please choose one operator (+,-, /, *, **)\") #choose an operator\n",
    "input2 = int(input(\"Guess your 2nd number\")) #guess the 2nd number\n",
    "togive(input1, input2, oper)    \n"
   ]
  },
  {
   "cell_type": "code",
   "execution_count": null,
   "metadata": {},
   "outputs": [],
   "source": []
  }
 ]
}