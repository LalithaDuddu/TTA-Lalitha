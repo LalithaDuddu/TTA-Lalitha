{
 "metadata": {
  "language_info": {
   "codemirror_mode": {
    "name": "ipython",
    "version": 3
   },
   "file_extension": ".py",
   "mimetype": "text/x-python",
   "name": "python",
   "nbconvert_exporter": "python",
   "pygments_lexer": "ipython3",
   "version": "3.9.3"
  },
  "orig_nbformat": 2,
  "kernelspec": {
   "name": "python393jvsc74a57bd0b37037583dc5711040bbac2f0c6b337132f4533bb38c533ae39dc9d4df89fab2",
   "display_name": "Python 3.9.3 64-bit"
  },
  "metadata": {
   "interpreter": {
    "hash": "b37037583dc5711040bbac2f0c6b337132f4533bb38c533ae39dc9d4df89fab2"
   }
  }
 },
 "nbformat": 4,
 "nbformat_minor": 2,
 "cells": [
  {
   "cell_type": "code",
   "execution_count": 9,
   "metadata": {},
   "outputs": [
    {
     "output_type": "stream",
     "name": "stdout",
     "text": [
      "Hello Lalitha\n",
      "My name is Lalitha\n"
     ]
    }
   ],
   "source": [
    "print(\"Hello Lalitha\")\n",
    "username = input(\"What is your name? \") #To input my name in the cell\n",
    "print(\"My name is\", username)"
   ]
  },
  {
   "cell_type": "code",
   "execution_count": 13,
   "metadata": {},
   "outputs": [
    {
     "output_type": "stream",
     "name": "stdout",
     "text": [
      "2\n",
      "Correct\n"
     ]
    }
   ],
   "source": [
    "# TASK 1\n",
    "\"\"\" Write a program that does the following: a) Stores a random number (1 10) in a variable see hint below. b) Asks a user for their name and stores this in a variable. c) Asks a user to guess the number between 1 and 10. d) Tells the user whether they have guessed correctly.\"\"\"\n",
    "\n",
    "import random #It gives random integer number from 1 to 10\n",
    "num = random.randint(1,10)\n",
    "print(num)\n",
    "guess = int(input(\"Guess your number\")) #You will need to guess the number \n",
    "if guess == num:\n",
    "    print(\"Correct\")\n",
    "else:\n",
    "    print(\"Wrong\")"
   ]
  },
  {
   "cell_type": "code",
   "execution_count": 5,
   "metadata": {},
   "outputs": [
    {
     "output_type": "stream",
     "name": "stdout",
     "text": [
      "101\nYou have enter invalid number\n"
     ]
    }
   ],
   "source": [
    "#TASK 2\n",
    "\"\"\" Write a program that asks a user for their favourite number between 1\n",
    "and 100 and then tells them a joke based on the number. You should\n",
    "use a minimum of 3 jokes.\"\"\"\n",
    "\n",
    "usernumber = int(input(\"Please enter your favourite number between 1 and 100\"))\n",
    "print(usernumber)\n",
    "if usernumber <= 30:\n",
    "    print(\"Joke 1\")\n",
    "elif usernumber >= 31 and usernumber <=70:\n",
    "    print(\"Joke 2\")\n",
    "elif usernumber >=71 and usernumber <=100:\n",
    "    print(\"Joke 3\")\n",
    "else:\n",
    "    print(\"You have enter invalid number\")"
   ]
  },
  {
   "cell_type": "code",
   "execution_count": 8,
   "metadata": {},
   "outputs": [
    {
     "output_type": "stream",
     "name": "stdout",
     "text": [
      "Your favourate meal is salad as a starter and maincourse to be roti desert cake with a glass of coke\n"
     ]
    }
   ],
   "source": [
    "#TASK 3\n",
    "\"\"\"Write a program that allows user to enter their favourite starter, main course, dessert and drink. Concatenate these and output a message which says ––“Your favourite meal is ………with a glass of….” \"\"\"\n",
    "\n",
    "starter = input(\"To enter your starter\") #To input Starter in the cell\n",
    "maincourse = input(\"To enter your maincourse?\")\n",
    "desert = input(\"To enter your desert?\")\n",
    "drink = input(\"To enter your drink\")\n",
    "print(\"Your favourate meal is\", starter, \"as a starter and maincourse to be\", maincourse,\"desert\", desert, \"with a glass of\", drink)"
   ]
  },
  {
   "cell_type": "code",
   "execution_count": 6,
   "metadata": {},
   "outputs": [
    {
     "output_type": "stream",
     "name": "stdout",
     "text": [
      "the value of percentage is 0.9\nThe value if the motorbike this year is 1800.0\nThe value if the motorbike this year is 1620.0\nThe value if the motorbike this year is 1458.0\nThe value if the motorbike this year is 1312.2\nThe value if the motorbike this year is 1180.98\nThe value if the motorbike this year is 1062.882\nThe value if the motorbike this year is 956.5938000000001\n"
     ]
    }
   ],
   "source": [
    "#TASK 4\n",
    "\"\"\" A motorbike costs £2000 and loses 10% of its value every year. Using a loop, print the value of the bike every following year until it falls below £1000\"\"\"\n",
    "\n",
    "x = 90\n",
    "percentage = x / 100\n",
    "print(\"the value of percentage is\", percentage)\n",
    "cost = 2000\n",
    "while cost >= 1000:\n",
    "    cost = cost * percentage\n",
    "    print(\"The value if the motorbike this year is\", cost)"
   ]
  },
  {
   "cell_type": "code",
   "execution_count": 8,
   "metadata": {},
   "outputs": [
    {
     "output_type": "stream",
     "name": "stdout",
     "text": [
      "1234 + 3456\n4690\n"
     ]
    }
   ],
   "source": [
    "#TASK 5\n",
    "\"\"\" Write a program which will ask for two numbers from a user. Then offer a menu to the user giving them a choice of operator: e.g. Enter “a” if you want to add “b” if you want to subtract\n",
    "Include +,--, /, *, ** square (to the power of). Once the user has selected which operator they wish to use, perform the calculation.\"\"\"\n",
    "\n",
    "input1 = int(input(\"Guess your 1st number\")) #You will need to guess the number\n",
    "oper = input(\"Please choose one operator (+,-, /, *, **)\") #choose an operator\n",
    "input2 = int(input(\"Guess your 2nd number\")) #guess the 2nd number\n",
    "print(input1, oper, input2)\n",
    "if oper == \"+\":\n",
    "       print(input1+input2)\n",
    "elif oper == \"-\":\n",
    "       print (input1-input2)\n",
    "elif oper == \"*\":\n",
    "       print (input1*input2)\n",
    "elif oper == \"/\":\n",
    "        print (input1/input2)\n",
    "elif oper == \"**\":\n",
    "        print (input1**input2)"
   ]
  },
  {
   "cell_type": "code",
   "execution_count": null,
   "metadata": {},
   "outputs": [],
   "source": []
  }
 ]
}