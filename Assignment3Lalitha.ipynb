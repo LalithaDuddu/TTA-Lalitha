{
 "metadata": {
  "language_info": {
   "codemirror_mode": {
    "name": "ipython",
    "version": 3
   },
   "file_extension": ".py",
   "mimetype": "text/x-python",
   "name": "python",
   "nbconvert_exporter": "python",
   "pygments_lexer": "ipython3",
   "version": "3.9.3"
  },
  "orig_nbformat": 2,
  "kernelspec": {
   "name": "python393jvsc74a57bd0b37037583dc5711040bbac2f0c6b337132f4533bb38c533ae39dc9d4df89fab2",
   "display_name": "Python 3.9.3 64-bit"
  },
  "metadata": {
   "interpreter": {
    "hash": "b37037583dc5711040bbac2f0c6b337132f4533bb38c533ae39dc9d4df89fab2"
   }
  }
 },
 "nbformat": 4,
 "nbformat_minor": 2,
 "cells": [
  {
   "cell_type": "code",
   "execution_count": null,
   "metadata": {},
   "outputs": [],
   "source": [
    "#TASK 1\n",
    "\"\"\"Write a program that allows you to enter 4 numbers and stores them in a file called “Numbers”\n",
    "3, 45, 83,21, Have a go at ‘w’ ‘r’ ‘a’ \"\"\"\n",
    "my_file = open(\"numbers.txt\", \"r\")\n",
    "print(my_file.read())\n"
   ]
  },
  {
   "cell_type": "code",
   "execution_count": null,
   "metadata": {},
   "outputs": [],
   "source": [
    "input1 = int(input(\"Please enter your 1st number\"))\n",
    "input2 = int(input(\"Please enter your 2nd number\"))\n",
    "input3 = int(input(\"Please enter your 3rd number\"))\n",
    "input4 = int(input(\"Please enter your 4th number\"))\n",
    "string_to_write_to_file = str(input1) + \" \" + str(input2) + \" \" + str(input3) + \" \" + str(input4)\n",
    "print(string_to_write_to_file)\n",
    "my_file = open(\"numbers.txt\", \"w\")\n",
    "my_file.write(string_to_write_to_file)\n",
    "f.close()"
   ]
  },
  {
   "cell_type": "code",
   "execution_count": null,
   "metadata": {},
   "outputs": [],
   "source": [
    "# Reading\n",
    "with open(\"numbers.txt\", \"r\") as myfile:\n",
    "    data = myfile.read().replace('\\n', ',')\n",
    "\n",
    "myfile.close()\n",
    "\n",
    "print(data)"
   ]
  },
  {
   "cell_type": "code",
   "execution_count": null,
   "metadata": {},
   "outputs": [],
   "source": [
    "#TASK 2\n",
    "\"\"\"Write a program to ask a student for their percentage mark and convert this to a grade.\n",
    "The conversion will be done in a function called mark_grade\"\"\"\n",
    "percentage_of_marks = int(input(\"Please enter your percentage of marks\"))\n",
    "print(percentage_of_marks)\n",
    "\n",
    "if percentage_of_marks >= 81 and percentage_of_marks <=100:\n",
    "    print(\"GRADE A\")\n",
    "elif percentage_of_marks >= 61 and percentage_of_marks <=80:\n",
    "    print(\"GRADE B\")\n",
    "elif percentage_of_marks >=41 and percentage_of_marks <=60:\n",
    "    print(\"GRADE C\")\n",
    "elif percentage_of_marks >=0 and percentage_of_marks <=40:\n",
    "    print(\"YOU HAVE FAILED\")"
   ]
  },
  {
   "cell_type": "code",
   "execution_count": null,
   "metadata": {},
   "outputs": [],
   "source": [
    "def ReturnTheGrade(percentage_of_marks):\n",
    "    \n",
    "    if percentage_of_marks >= 81 and percentage_of_marks <=100:\n",
    "        return \"GRADE A\"\n",
    "    elif percentage_of_marks >= 61 and percentage_of_marks <=80:\n",
    "        return \"GRADE B\"\n",
    "    elif percentage_of_marks >=41 and percentage_of_marks <=60:\n",
    "        return \"GRADE C\"\n",
    "    elif percentage_of_marks >=0 and percentage_of_marks <=40:\n",
    "        return \"YOU HAVE FAILED\"\n",
    "    \n",
    "\n",
    "percentage_of_marks = int(input(\"Please enter your percentage of marks\"))\n",
    "print(ReturnTheGrade(percentage_of_marks))\n"
   ]
  },
  {
   "cell_type": "code",
   "execution_count": null,
   "metadata": {},
   "outputs": [],
   "source": []
  }
 ]
}